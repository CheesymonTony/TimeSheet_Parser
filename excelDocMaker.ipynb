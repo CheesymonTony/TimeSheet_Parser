{
 "cells": [
  {
   "cell_type": "code",
   "execution_count": 38,
   "metadata": {},
   "outputs": [
    {
     "name": "stdout",
     "output_type": "stream",
     "text": [
      "<__main__.Table object at 0x1258025f0>\n"
     ]
    }
   ],
   "source": [
    "import os\n",
    "import openpyxl\n",
    "from openpyxl.styles import PatternFill, Border, Side\n",
    "import myFuncts\n",
    "\n",
    "class Table:\n",
    "    def __init__(self, worksheet, headers, span = None):\n",
    "        self.worksheet = worksheet\n",
    "        self.headers = headers\n",
    "        self.data = []\n",
    "        self.span = span\n",
    "\n",
    "    def mergeHeader(self, cellsToMerge):\n",
    "        self.worksheet.merge_cells(cellsToMerge)\n",
    "\n",
    "    \n",
    "newTable = Table\n",
    "\n",
    "\n",
    "# Create a new Excel workbook\n",
    "wb = openpyxl.Workbook()\n",
    "\n",
    "# Select the first sheet\n",
    "sheet = wb.active\n",
    "newTable = Table(sheet, ['Header1', 'Header2', 'Header3'] )\n",
    "# newTable.mergeHeader('B4:F4')\n",
    "\n",
    "print(newTable)\n",
    "\n",
    "file_path = os.path.join(os.getcwd(), 'classTester.xlsx')\n",
    "wb.save(file_path)"
   ]
  },
  {
   "cell_type": "code",
   "execution_count": 18,
   "metadata": {},
   "outputs": [
    {
     "name": "stdout",
     "output_type": "stream",
     "text": [
      "header row (<Cell 'Sheet'.B4>, <Cell 'Sheet'.C4>, <Cell 'Sheet'.D4>, <Cell 'Sheet'.E4>, <Cell 'Sheet'.F4>)\n"
     ]
    }
   ],
   "source": [
    "\n",
    "# Set the column widths for columns B-F\n",
    "column_widths = [15, 15, 15, 15, 15]\n",
    "for i, width in enumerate(column_widths):\n",
    "    sheet.column_dimensions[openpyxl.utils.get_column_letter(i+2)].width = width\n",
    "\n",
    "# Write your name to cell A1\n",
    "sheet['A1'] = 'Carter Boyce'\n",
    "\n",
    "# Write the billing period month to cell A2\n",
    "billing_period_month = 'June 2022' # Replace with the correct billing period month\n",
    "sheet['A2'] = billing_period_month\n",
    "\n",
    "# Insert a blank row after the billing period cell\n",
    "sheet.insert_rows(3)\n",
    "\n",
    "# Write the headers to the first row\n",
    "header_row = sheet['B4':'F4'][0]\n",
    "print('header row', header_row)\n",
    "header_row[0].value = 'Date'\n",
    "header_row[1].value = 'In Time'\n",
    "header_row[2].value = 'Lunch/Break'\n",
    "header_row[3].value = 'Out Time'\n",
    "header_row[4].value = 'Additional Hours'\n",
    "header_fill = PatternFill(start_color='E9B38A', end_color='E9B38A', fill_type='solid')\n",
    "for cell in header_row:\n",
    "    cell.fill = header_fill\n",
    "\n",
    "# Write the data to the appropriate cells\n",
    "data_fill = PatternFill(start_color='F7E4D7', end_color='F7E4D7', fill_type='solid')\n",
    "for i in range(5, 32):\n",
    "    # Write the day of the month to column B\n",
    "    sheet.cell(row=i, column=2, value=i-4).border = Border(left=Side(style='thin'), right=Side(style='thin'), top=Side(style='thin'), bottom=Side(style='thin'))\n",
    "\n",
    "    # Write the rest of the data to columns C-F\n",
    "    sheet.cell(row=i, column=3, value='').border = Border(left=Side(style='thin'), right=Side(style='thin'), top=Side(style='thin'), bottom=Side(style='thin'))\n",
    "    sheet.cell(row=i, column=4, value='').border = Border(left=Side(style='thin'), right=Side(style='thin'), top=Side(style='thin'), bottom=Side(style='thin'))\n",
    "    sheet.cell(row=i, column=5, value='').border = Border(left=Side(style='thin'), right=Side(style='thin'), top=Side(style='thin'), bottom=Side(style='thin'))\n",
    "    sheet.cell(row=i, column=6, value='').border = Border(left=Side(style='thin'), right=Side(style='thin'), top=Side(style='thin'), bottom=Side(style='thin'))\n",
    "    for j in range(2, 7):\n",
    "        sheet.cell(row=i, column=j).fill = data_fill\n",
    "\n",
    "# Set border around table\n",
    "thin_border = openpyxl.styles.Side(border_style='thin', color='000000')\n",
    "thick_border = openpyxl.styles.Side(border_style='medium', color='000000')\n",
    "border = openpyxl.styles.Border(top=thin_border, left=thin_border, right=thin_border, bottom=thin_border)\n",
    "\n",
    "# Set border around table headers\\\n",
    "\n",
    "for idx, cell in enumerate(header_row):\n",
    "    cell.fill = openpyxl.styles.PatternFill(start_color='E9B38A', end_color='E9B38A', fill_type='solid')\n",
    "    if idx == 0:\n",
    "        cell.border = openpyxl.styles.Border(top=thick_border, left=thick_border, right=thin_border, bottom=thick_border)\n",
    "    elif idx == len(header_row) - 1:\n",
    "        cell.border = openpyxl.styles.Border(top=thick_border, left=thin_border, right=thick_border, bottom=thick_border)\n",
    "    else:\n",
    "        cell.border = openpyxl.styles.Border(top=thick_border, left=thin_border, right=thin_border, bottom=thick_border)\n",
    "\n",
    "            \n",
    "\n",
    "# Set border around table cells\n",
    "# for row in sheet.iter_rows(min_row=5, max_row=31, min_col=2, max_col=6):\n",
    "#     for cell in row:\n",
    "#         cell.fill = openpyxl.styles.PatternFill(start_color='F7E4D7', end_color='F7E4D7', fill_type='solid')\n",
    "#         cell.border = openpyxl.styles.Border(top=thin_border, left=thin_border, right=thin_border, bottom=thin_border)\n",
    "        \n",
    "# Set border around entire table\n",
    "min_col = sheet.min_column\n",
    "max_col = sheet.max_column\n",
    "min_row = sheet.min_row\n",
    "max_row = sheet.max_row\n",
    "\n",
    "# for row in sheet.iter_rows(min_row=min_row, max_row=max_row, min_col=min_col, max_col=max_col):\n",
    "#     for cell in row:\n",
    "#         if cell.row == min_row or cell.row == max_row or cell.column == min_col or cell.column == max_col:\n",
    "#             cell.border = openpyxl.styles.Border(top=thick_border, left=thick_border, right=thick_border, bottom=thick_border)\n",
    "\n",
    "\n",
    "# Save the Excel workbook in the current directory\n",
    "file_path = os.path.join(os.getcwd(), 'example.xlsx')\n",
    "wb.save(file_path)\n"
   ]
  },
  {
   "cell_type": "code",
   "execution_count": 39,
   "metadata": {},
   "outputs": [
    {
     "name": "stdout",
     "output_type": "stream",
     "text": [
      "printedddd\n"
     ]
    }
   ],
   "source": [
    "myFuncts.printThis('printedddd')"
   ]
  }
 ],
 "metadata": {
  "kernelspec": {
   "display_name": "Python 3",
   "language": "python",
   "name": "python3"
  },
  "language_info": {
   "codemirror_mode": {
    "name": "ipython",
    "version": 3
   },
   "file_extension": ".py",
   "mimetype": "text/x-python",
   "name": "python",
   "nbconvert_exporter": "python",
   "pygments_lexer": "ipython3",
   "version": "3.10.5"
  },
  "orig_nbformat": 4
 },
 "nbformat": 4,
 "nbformat_minor": 2
}
