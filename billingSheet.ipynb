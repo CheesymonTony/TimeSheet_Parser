{
 "cells": [
  {
   "cell_type": "code",
   "execution_count": 3,
   "metadata": {},
   "outputs": [],
   "source": [
    "import xlsxwriter as xl\n",
    "import seaborn\n",
    "from xlsxpandasformatter import FormattedWorksheet\n",
    "import pandas as pd\n",
    "\n",
    "stuff = (\n",
    "    ['couch', 'brown'],\n",
    "    ['tv', '48 inches'],\n",
    "    ['guitar', 'taylor'],\n",
    "    ['plant', 'golden pathos'],\n",
    "    ['trim', 'yellow']\n",
    ")\n",
    "\n",
    "workbook = xl.Workbook('billing.xlsx')\n",
    "worksheet = workbook.add_worksheet()\n",
    "\n",
    "\n",
    "\n",
    "bold = workbook.add_format({'bold': True})\n",
    "\n",
    "worksheet.write('A1', 'Item', bold)\n",
    "worksheet.write('B1', 'descriptionnnn', bold)\n",
    "\n",
    "colWidths = [10,100]\n",
    "\n",
    "\n",
    "\n",
    "row = 1\n",
    "col = 0\n",
    "\n",
    "for item, description in (stuff):\n",
    "    worksheet.write(row, col, item)\n",
    "    worksheet.write(row, col+1, description)\n",
    "    row += 1\n",
    "\n",
    "workbook.close()"
   ]
  }
 ],
 "metadata": {
  "kernelspec": {
   "display_name": "Python 3.10.5 64-bit",
   "language": "python",
   "name": "python3"
  },
  "language_info": {
   "codemirror_mode": {
    "name": "ipython",
    "version": 3
   },
   "file_extension": ".py",
   "mimetype": "text/x-python",
   "name": "python",
   "nbconvert_exporter": "python",
   "pygments_lexer": "ipython3",
   "version": "3.10.5"
  },
  "orig_nbformat": 4,
  "vscode": {
   "interpreter": {
    "hash": "aee8b7b246df8f9039afb4144a1f6fd8d2ca17a180786b69acc140d282b71a49"
   }
  }
 },
 "nbformat": 4,
 "nbformat_minor": 2
}
