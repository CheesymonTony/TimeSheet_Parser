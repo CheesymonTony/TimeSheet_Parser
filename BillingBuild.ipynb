{
 "cells": [
  {
   "cell_type": "code",
   "execution_count": 48,
   "metadata": {},
   "outputs": [],
   "source": [
    "import xlsxwriter as xl\n",
    "import pandas as pd\n",
    "import tabula\n",
    "\n",
    "\n",
    "# workbook = xl.Workbook('BillingExport.xlsx')\n",
    "# worksheet = workbook.add_worksheet()\n",
    "# writer = pd.ExcelWriter('BillingExport.xlsx', engine='xlsxwriter')\n",
    "\n",
    "# inOut_Header_Format = workbook.add_format({'bg_color': '#E9B38A',\n",
    "#                                     'font_color': '#000000'})\n",
    "\n",
    "# inOut_Input_Format = workbook.add_format({'bg_color': '#F7E4D7',\n",
    "#                                     'font_color': '#000000'})            \n",
    "\n",
    "data = [\n",
    "    ['this', 'is', 'a', 'test'],\n",
    "    [6, 24, 1, 84, 54, 62, 60, 3, 26, 59],\n",
    "    [28, 79, 97, 13, 85, 93, 93, 22, 5, 14],\n",
    "    [27, 71, 40, 17, 18, 79, 90, 93, 29, 47],\n",
    "    [88, 25, 33, 23, 67, 1, 59, 79, 47, 36],\n",
    "    [24, 100, 20, 88, 29, 33, 38, 54, 54, 88],\n",
    "    [6, 57, 88, 28, 10, 26, 37, 7, 41, 48],\n",
    "    [52, 78, 1, 96, 26, 45, 47, 33, 96, 36],\n",
    "    [60, 54, 81, 66, 81, 90, 80, 93, 12, 55],\n",
    "    [70, 5, 46, 14, 71, 19, 66, 36, 41, 21],\n",
    "]\n",
    "                        "
   ]
  },
  {
   "cell_type": "code",
   "execution_count": 57,
   "metadata": {},
   "outputs": [
    {
     "name": "stderr",
     "output_type": "stream",
     "text": [
      "'pages' argument isn't specified.Will extract only from page 1 by default.\n"
     ]
    },
    {
     "name": "stdout",
     "output_type": "stream",
     "text": [
      "           Day     Start       End  Hours            Description  Rtime\n",
      "1   Mon Jul 11  10:00 AM  12:00 PM    3.5                  Mocap    2.0\n",
      "2   Mon Jul 11  12:00 PM   1:00 PM    3.5            ITG Meeting    1.0\n",
      "3   Mon Jul 11   1:00 PM   1:30 PM    3.5                  Mocap    0.5\n",
      "5   Wed Jul 13   9:30 AM  11:30 AM    2.0           NeoNatal Rig    2.0\n",
      "10  Mon Jul 18  12:00 PM  12:15 PM    0.3            ITG Meeting    0.3\n",
      "11  Tue Jul 19  10:30 AM  11:30 AM    3.0               Jov Icon    1.0\n",
      "12  Tue Jul 19   3:00 PM   5:00 PM    3.0         NeoNatal Model    2.0\n",
      "13  Wed Jul 20  10:00 AM  11:00 AM    2.5  Neonatal Rig and meet    1.0\n",
      "14  Wed Jul 20  12:30 PM   2:00 PM    2.5             NeoNatal R    1.5\n",
      "15  Thu Jul 21  10:00 AM  11:00 AM    3.0               Jov Icon    1.0\n",
      "16  Thu Jul 21  12:00 PM   2:00 PM    3.0               Spay Rig    2.0\n",
      "17  Fri Jul 22   9:30 AM  11:30 AM    2.0   Spay Rig and Meeting    2.0\n"
     ]
    },
    {
     "data": {
      "text/html": [
       "<div>\n",
       "<style scoped>\n",
       "    .dataframe tbody tr th:only-of-type {\n",
       "        vertical-align: middle;\n",
       "    }\n",
       "\n",
       "    .dataframe tbody tr th {\n",
       "        vertical-align: top;\n",
       "    }\n",
       "\n",
       "    .dataframe thead th {\n",
       "        text-align: right;\n",
       "    }\n",
       "</style>\n",
       "<table border=\"1\" class=\"dataframe\">\n",
       "  <thead>\n",
       "    <tr style=\"text-align: right;\">\n",
       "      <th></th>\n",
       "      <th>Day</th>\n",
       "      <th>Start</th>\n",
       "      <th>End</th>\n",
       "      <th>Hours</th>\n",
       "      <th>Description</th>\n",
       "      <th>Rtime</th>\n",
       "    </tr>\n",
       "  </thead>\n",
       "  <tbody>\n",
       "    <tr>\n",
       "      <th>11</th>\n",
       "      <td>Tue Jul 19</td>\n",
       "      <td>10:30 AM</td>\n",
       "      <td>11:30 AM</td>\n",
       "      <td>3.0</td>\n",
       "      <td>Jov Icon</td>\n",
       "      <td>1.0</td>\n",
       "    </tr>\n",
       "    <tr>\n",
       "      <th>12</th>\n",
       "      <td>Tue Jul 19</td>\n",
       "      <td>3:00 PM</td>\n",
       "      <td>5:00 PM</td>\n",
       "      <td>3.0</td>\n",
       "      <td>NeoNatal Model</td>\n",
       "      <td>2.0</td>\n",
       "    </tr>\n",
       "  </tbody>\n",
       "</table>\n",
       "</div>"
      ],
      "text/plain": [
       "           Day     Start       End  Hours     Description  Rtime\n",
       "11  Tue Jul 19  10:30 AM  11:30 AM    3.0        Jov Icon    1.0\n",
       "12  Tue Jul 19   3:00 PM   5:00 PM    3.0  NeoNatal Model    2.0"
      ]
     },
     "execution_count": 57,
     "metadata": {},
     "output_type": "execute_result"
    }
   ],
   "source": [
    "df = tabula.read_pdf('july10-23.pdf')\n",
    "\n",
    "df_full = pd.concat([df[0], df[1]], ignore_index=True\n",
    "            ).dropna(subset='Start'\n",
    "            ).fillna(method='ffill'\n",
    "            ).drop(['Notes', 'Project', 'Task', 'Earn Code'], axis=1)\n",
    "\n",
    "df_full\n",
    "\n",
    "df_full['Rtime'] = (0.01+(pd.to_datetime(df_full['End']\n",
    "                        )-pd.to_datetime(df_full['Start'])\n",
    "                        ).dt.seconds/3600\n",
    "                        ).round(1)\n",
    "df_full.style.hide(axis='index').format(precision=1)\n",
    "\n",
    "\n",
    "\n",
    "# for row, row_data in enumerate(df_full):\n",
    "#     worksheet.write_row(row+2, 6, row_data)\n",
    "print(df_full)\n",
    "dayGroup = df_full.groupby(df_full['Day'])\n",
    "dayGroup.groups\n",
    "\n",
    "df2 = dayGroup.get_group('Tue Jul 19')\n",
    "df2\n",
    "# df_full.head()\n",
    "\n",
    "\n",
    "\n"
   ]
  },
  {
   "cell_type": "code",
   "execution_count": 54,
   "metadata": {},
   "outputs": [
    {
     "ename": "AttributeError",
     "evalue": "'PrettyDict' object has no attribute 'to_excel'",
     "output_type": "error",
     "traceback": [
      "\u001b[0;31m---------------------------------------------------------------------------\u001b[0m",
      "\u001b[0;31mAttributeError\u001b[0m                            Traceback (most recent call last)",
      "\u001b[1;32m/Users/carterboyce/Desktop/Flowlab/CodingProjects/TimeSheet_Parser/BillingBuild.ipynb Cell 3\u001b[0m in \u001b[0;36m<cell line: 7>\u001b[0;34m()\u001b[0m\n\u001b[1;32m      <a href='vscode-notebook-cell:/Users/carterboyce/Desktop/Flowlab/CodingProjects/TimeSheet_Parser/BillingBuild.ipynb#W2sZmlsZQ%3D%3D?line=1'>2</a>\u001b[0m writer \u001b[39m=\u001b[39m pd\u001b[39m.\u001b[39mExcelWriter(\u001b[39m\"\u001b[39m\u001b[39mpandas_header_format.xlsx\u001b[39m\u001b[39m\"\u001b[39m, engine\u001b[39m=\u001b[39m\u001b[39m'\u001b[39m\u001b[39mxlsxwriter\u001b[39m\u001b[39m'\u001b[39m)\n\u001b[1;32m      <a href='vscode-notebook-cell:/Users/carterboyce/Desktop/Flowlab/CodingProjects/TimeSheet_Parser/BillingBuild.ipynb#W2sZmlsZQ%3D%3D?line=3'>4</a>\u001b[0m \u001b[39m# Convert the dataframe to an XlsxWriter Excel object. Note that we turn off\u001b[39;00m\n\u001b[1;32m      <a href='vscode-notebook-cell:/Users/carterboyce/Desktop/Flowlab/CodingProjects/TimeSheet_Parser/BillingBuild.ipynb#W2sZmlsZQ%3D%3D?line=4'>5</a>\u001b[0m \u001b[39m# the default header and skip one row to allow us to insert a user defined\u001b[39;00m\n\u001b[1;32m      <a href='vscode-notebook-cell:/Users/carterboyce/Desktop/Flowlab/CodingProjects/TimeSheet_Parser/BillingBuild.ipynb#W2sZmlsZQ%3D%3D?line=5'>6</a>\u001b[0m \u001b[39m# header.\u001b[39;00m\n\u001b[0;32m----> <a href='vscode-notebook-cell:/Users/carterboyce/Desktop/Flowlab/CodingProjects/TimeSheet_Parser/BillingBuild.ipynb#W2sZmlsZQ%3D%3D?line=6'>7</a>\u001b[0m dayGroup\u001b[39m.\u001b[39;49mgroups\u001b[39m.\u001b[39;49mto_excel(writer, sheet_name\u001b[39m=\u001b[39m\u001b[39m'\u001b[39m\u001b[39mSheet1\u001b[39m\u001b[39m'\u001b[39m, startrow\u001b[39m=\u001b[39m\u001b[39m1\u001b[39m, header\u001b[39m=\u001b[39m\u001b[39mFalse\u001b[39;00m)\n\u001b[1;32m      <a href='vscode-notebook-cell:/Users/carterboyce/Desktop/Flowlab/CodingProjects/TimeSheet_Parser/BillingBuild.ipynb#W2sZmlsZQ%3D%3D?line=8'>9</a>\u001b[0m \u001b[39m# Get the xlsxwriter workbook and worksheet objects.\u001b[39;00m\n\u001b[1;32m     <a href='vscode-notebook-cell:/Users/carterboyce/Desktop/Flowlab/CodingProjects/TimeSheet_Parser/BillingBuild.ipynb#W2sZmlsZQ%3D%3D?line=9'>10</a>\u001b[0m workbook  \u001b[39m=\u001b[39m writer\u001b[39m.\u001b[39mbook\n",
      "\u001b[0;31mAttributeError\u001b[0m: 'PrettyDict' object has no attribute 'to_excel'"
     ]
    }
   ],
   "source": [
    "\n",
    "\n",
    "# Create a Pandas Excel writer using XlsxWriter as the engine.\n",
    "writer = pd.ExcelWriter(\"pandas_header_format.xlsx\", engine='xlsxwriter')\n",
    "\n",
    "# Convert the dataframe to an XlsxWriter Excel object. Note that we turn off\n",
    "# the default header and skip one row to allow us to insert a user defined\n",
    "# header.\n",
    "dayGroup.groups.to_excel(writer, sheet_name='Sheet1', startrow=1, header=False)\n",
    "\n",
    "# Get the xlsxwriter workbook and worksheet objects.\n",
    "workbook  = writer.book\n",
    "worksheet = writer.sheets['Sheet1']\n",
    "\n",
    "# Add a header format.\n",
    "header_format = workbook.add_format({\n",
    "    'bold': True,\n",
    "    'text_wrap': True,\n",
    "    'valign': 'top',\n",
    "    'fg_color': '#D7E4BC',\n",
    "    'border': 1})\n",
    "\n",
    "# Write the column headers with the defined format.\n",
    "for col_num, value in enumerate(df_full.columns.values):\n",
    "    worksheet.write(0, col_num + 1, value, header_format)\n",
    "\n",
    "# Close the Pandas Excel writer and output the Excel file.\n",
    "writer.save()"
   ]
  }
 ],
 "metadata": {
  "kernelspec": {
   "display_name": "Python 3.10.5 64-bit",
   "language": "python",
   "name": "python3"
  },
  "language_info": {
   "codemirror_mode": {
    "name": "ipython",
    "version": 3
   },
   "file_extension": ".py",
   "mimetype": "text/x-python",
   "name": "python",
   "nbconvert_exporter": "python",
   "pygments_lexer": "ipython3",
   "version": "3.10.5"
  },
  "orig_nbformat": 4,
  "vscode": {
   "interpreter": {
    "hash": "aee8b7b246df8f9039afb4144a1f6fd8d2ca17a180786b69acc140d282b71a49"
   }
  }
 },
 "nbformat": 4,
 "nbformat_minor": 2
}
