{
 "cells": [
  {
   "cell_type": "code",
   "execution_count": 4,
   "metadata": {},
   "outputs": [],
   "source": [
    "###############################################################################\n",
    "#\n",
    "# Example of how to add conditional formatting to an XlsxWriter file.\n",
    "#\n",
    "# Conditional formatting allows you to apply a format to a cell or a\n",
    "# range of cells based on certain criteria.\n",
    "#\n",
    "# SPDX-License-Identifier: BSD-2-Clause\n",
    "# Copyright 2013-2022, John McNamara, jmcnamara@cpan.org\n",
    "#\n",
    "import xlsxwriter\n",
    "\n",
    "workbook = xlsxwriter.Workbook('conditional_format.xlsx')\n",
    "worksheet1 = workbook.add_worksheet()\n",
    "\n",
    "\n",
    "# Add a format. Light red fill with dark red text.\n",
    "format1 = workbook.add_format({'bg_color': '#FFC7CE',\n",
    "                               'font_color': '#9C0006'})\n",
    "\n",
    "# Add a format. Green fill with dark green text.\n",
    "format2 = workbook.add_format({'bg_color': '#C6EFCE',\n",
    "                               'font_color': '#006100'})\n",
    "\n",
    "# Some sample data to run the conditional formatting against.\n",
    "data = [\n",
    "    ['this', 'is', 'a', 'test'],\n",
    "    [6, 24, 1, 84, 54, 62, 60, 3, 26, 59],\n",
    "    [28, 79, 97, 13, 85, 93, 93, 22, 5, 14],\n",
    "    [27, 71, 40, 17, 18, 79, 90, 93, 29, 47],\n",
    "    [88, 25, 33, 23, 67, 1, 59, 79, 47, 36],\n",
    "    [24, 100, 20, 88, 29, 33, 38, 54, 54, 88],\n",
    "    [6, 57, 88, 28, 10, 26, 37, 7, 41, 48],\n",
    "    [52, 78, 1, 96, 26, 45, 47, 33, 96, 36],\n",
    "    [60, 54, 81, 66, 81, 90, 80, 93, 12, 55],\n",
    "    [70, 5, 46, 14, 71, 19, 66, 36, 41, 21],\n",
    "]\n",
    "\n",
    "\n",
    "###############################################################################\n",
    "#\n",
    "# Example 1.\n",
    "#\n",
    "caption = ('Cells with values >= 50 are in light red. '\n",
    "           'Values < 50 are in light green.')\n",
    "\n",
    "# Write the data.\n",
    "worksheet1.write('A1', caption)\n",
    "\n",
    "for row, row_data in enumerate(data):\n",
    "    worksheet1.write_row(row+2, 6, row_data)\n",
    "\n",
    "# Write a conditional format over a range.\n",
    "worksheet1.conditional_format('B3:K12', {'type': 'cell',\n",
    "                                         'criteria': '>=',\n",
    "                                         'value': 50,\n",
    "                                         'format': format1})\n",
    "\n",
    "# Write another conditional format over the same range.\n",
    "worksheet1.conditional_format('B3:K12', {'type': 'cell',\n",
    "                                         'criteria': '<',\n",
    "                                         'value': 50,\n",
    "                                         'format': format2})\n",
    "\n",
    "workbook.close()"
   ]
  }
 ],
 "metadata": {
  "kernelspec": {
   "display_name": "Python 3.10.5 64-bit",
   "language": "python",
   "name": "python3"
  },
  "language_info": {
   "codemirror_mode": {
    "name": "ipython",
    "version": 3
   },
   "file_extension": ".py",
   "mimetype": "text/x-python",
   "name": "python",
   "nbconvert_exporter": "python",
   "pygments_lexer": "ipython3",
   "version": "3.10.5"
  },
  "orig_nbformat": 4,
  "vscode": {
   "interpreter": {
    "hash": "aee8b7b246df8f9039afb4144a1f6fd8d2ca17a180786b69acc140d282b71a49"
   }
  }
 },
 "nbformat": 4,
 "nbformat_minor": 2
}
